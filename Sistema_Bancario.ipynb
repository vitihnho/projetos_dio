{
 "cells": [
  {
   "cell_type": "code",
   "execution_count": 1,
   "id": "9bcd9897",
   "metadata": {},
   "outputs": [],
   "source": [
    "import pandas as pd"
   ]
  },
  {
   "cell_type": "code",
   "execution_count": null,
   "id": "d48b130a",
   "metadata": {},
   "outputs": [],
   "source": [
    "#Criando sistema bancário com opções de Saque (0) | Depósito (1) | Extrato (2)\n",
    "\n",
    "#Detalhes\n",
    "#Só deve ser possível adicionar valores positivos\n",
    "#No momento, vai existir apenas 1 usuário\n",
    "#Apenas 3 saques diários com limite máximo de R$ 500 | Caso não tenha saldo em conta, o sistema deve sinalizar ao usuário.\n",
    "#Saques armazenados em uma variável para visualização no extrato\n",
    "#No extrato, mostrar mensagem caso não tenha sido feita nenhuma operação. Valor deve ser mostrado no seguinte formato: R$ xxx.xx\n",
    "\n"
   ]
  },
  {
   "cell_type": "code",
   "execution_count": 13,
   "id": "872188fe",
   "metadata": {},
   "outputs": [
    {
     "name": "stdout",
     "output_type": "stream",
     "text": [
      "Não é possível realizar saques sem dinheiro em conta... deposite!!!\n",
      "Aqui está seu extratoSaldo Atual: R$  1000.00Total em Saques realizados: R$  0.00Total em Depósitos realizados: R$  1000.00\n",
      "Você só pode realizar saques até R$ 500\n",
      "Aqui está seu extratoSaldo Atual: R$  1000.00Total em Saques realizados: R$  0.00Total em Depósitos realizados: R$  1000.00\n",
      "Você realizou o saque no valor de R$  350.00\n",
      "Aqui está seu extratoSaldo Atual: R$  650.00Total em Saques realizados: R$  350.00Total em Depósitos realizados: R$  1000.00\n",
      "Aqui está seu extratoSaldo Atual: R$  29650.00Total em Saques realizados: R$  350.00Total em Depósitos realizados: R$  30000.00\n",
      "Você realizou o saque no valor de R$  500.00\n",
      "Aqui está seu extratoSaldo Atual: R$  29150.00Total em Saques realizados: R$  850.00Total em Depósitos realizados: R$  30000.00\n",
      "Você realizou o saque no valor de R$  500.00\n",
      "Você realizou a quantidade máxima de saques por hoje!!!\n",
      "Aqui está seu extratoSaldo Atual: R$  28650.00Total em Saques realizados: R$  1350.00Total em Depósitos realizados: R$  30000.00\n",
      "Aqui está seu extratoSaldo Atual: R$  28650.00Total em Saques realizados: R$  1350.00Total em Depósitos realizados: R$  30000.00\n",
      "Obrigado por utilizar nosso sistema bancário!!!\n"
     ]
    }
   ],
   "source": [
    "total_saque = 0\n",
    "total_depositado = 0\n",
    "conta = 0\n",
    "qtd_saque = 0\n",
    "\n",
    "while True:\n",
    "\n",
    "    opcoes = input(\n",
    "    \"[0] - Saque \" \\\n",
    "    \"[1] - Depósito \" \\\n",
    "    \"[2] - Extrato \" \\\n",
    "    \"[3] - Sair\")\n",
    "\n",
    "    if opcoes == \"0\":\n",
    "\n",
    "        valor_saque = float(input(\"Qual o valor deseja sacar:\"))\n",
    "\n",
    "        if valor_saque > 500:\n",
    "\n",
    "            print(\"Você só pode realizar saques até R$ 500\")\n",
    "            \n",
    "        elif qtd_saque == 3:\n",
    "        \n",
    "            print(\"Você realizou a quantidade máxima de saques por hoje!!!\")\n",
    "\n",
    "        elif conta == 0:\n",
    "\n",
    "            print(\"Não é possível realizar saques sem dinheiro em conta... deposite!!!\")\n",
    "\n",
    "        else:\n",
    "\n",
    "            qtd_saque += 1\n",
    "            total_saque += valor_saque\n",
    "            conta -= valor_saque\n",
    "\n",
    "            print(f\"Você realizou o saque no valor de R$ {valor_saque: .2f}\")\n",
    "\n",
    "    elif opcoes == \"1\":\n",
    "\n",
    "        valor_deposito = float(input(\"Qual valor deseja depositar: \"))\n",
    "        total_depositado += valor_deposito\n",
    "        conta += valor_deposito\n",
    "    \n",
    "    elif opcoes == \"2\":\n",
    "\n",
    "        print(\"Aqui está seu extrato\" \\\n",
    "              f\"Saldo Atual: R$ {conta: .2f}\" \\\n",
    "              f\"Total em Saques realizados: R$ {total_saque: .2f}\" \\\n",
    "              f\"Total em Depósitos realizados: R$ {total_depositado: .2f}\")\n",
    "        \n",
    "    elif opcoes == \"3\":\n",
    "\n",
    "        print(\"Obrigado por utilizar nosso sistema bancário!!!\")\n",
    "        break\n",
    "\n",
    "    else:\n",
    "\n",
    "        print(f\"Insira um caracter válido, o caracter {opcoes} não é um deles!\")\n",
    "        break\n",
    "\n"
   ]
  },
  {
   "cell_type": "code",
   "execution_count": 7,
   "id": "7cb8c740",
   "metadata": {},
   "outputs": [
    {
     "name": "stdout",
     "output_type": "stream",
     "text": [
      "nan\n"
     ]
    }
   ],
   "source": [
    "print(conta)"
   ]
  },
  {
   "cell_type": "code",
   "execution_count": 3,
   "id": "5391389f",
   "metadata": {},
   "outputs": [
    {
     "name": "stdout",
     "output_type": "stream",
     "text": [
      "1\n"
     ]
    }
   ],
   "source": [
    "print(opcoes)"
   ]
  }
 ],
 "metadata": {
  "kernelspec": {
   "display_name": "Python 3",
   "language": "python",
   "name": "python3"
  },
  "language_info": {
   "codemirror_mode": {
    "name": "ipython",
    "version": 3
   },
   "file_extension": ".py",
   "mimetype": "text/x-python",
   "name": "python",
   "nbconvert_exporter": "python",
   "pygments_lexer": "ipython3",
   "version": "3.12.0"
  }
 },
 "nbformat": 4,
 "nbformat_minor": 5
}
